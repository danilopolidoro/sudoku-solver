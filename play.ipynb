{
 "cells": [
  {
   "cell_type": "code",
   "execution_count": 1,
   "metadata": {},
   "outputs": [],
   "source": [
    "from board import Board\n",
    "from solver import solve"
   ]
  },
  {
   "cell_type": "code",
   "execution_count": 2,
   "metadata": {},
   "outputs": [],
   "source": [
    "game = [\n",
    "    [5,6,8,None,9,3,None,None,7],\n",
    "    [3,4,None,None,None,7,None,None,5],\n",
    "    [None,9,7,5,None,4,6,None,3],\n",
    "    [7,None,None,None,1,2,5,None,None],\n",
    "    [None,1,9,None,None,8,7,6,None],\n",
    "    [None,8,None,7,None,None,None,3,None],\n",
    "    [None,2,None,None,3,5,8,None,None],\n",
    "    [None,5,1,2,None,6,3,None,None],\n",
    "    [None,None,None,9,None,None,None,None,None],\n",
    "]"
   ]
  },
  {
   "cell_type": "code",
   "execution_count": 3,
   "metadata": {},
   "outputs": [],
   "source": [
    "board = Board(game)"
   ]
  },
  {
   "cell_type": "code",
   "execution_count": 6,
   "metadata": {},
   "outputs": [],
   "source": [
    "solution = solve(board)"
   ]
  },
  {
   "cell_type": "code",
   "execution_count": 7,
   "metadata": {},
   "outputs": [
    {
     "name": "stdout",
     "output_type": "stream",
     "text": [
      "     0    1    2    3    4    5    6    7    8\n",
      "0  {5}  {6}  {8}  {1}  {9}  {3}  {4}  {2}  {7}\n",
      "1  {3}  {4}  {2}  {8}  {6}  {7}  {9}  {1}  {5}\n",
      "2  {1}  {9}  {7}  {5}  {2}  {4}  {6}  {8}  {3}\n",
      "3  {7}  {3}  {4}  {6}  {1}  {2}  {5}  {9}  {8}\n",
      "4  {2}  {1}  {9}  {3}  {5}  {8}  {7}  {6}  {4}\n",
      "5  {6}  {8}  {5}  {7}  {4}  {9}  {1}  {3}  {2}\n",
      "6  {9}  {2}  {6}  {4}  {3}  {5}  {8}  {7}  {1}\n",
      "7  {8}  {5}  {1}  {2}  {7}  {6}  {3}  {4}  {9}\n",
      "8  {4}  {7}  {3}  {9}  {8}  {1}  {2}  {5}  {6}\n"
     ]
    }
   ],
   "source": [
    "print(solution)"
   ]
  },
  {
   "cell_type": "code",
   "execution_count": null,
   "metadata": {},
   "outputs": [],
   "source": []
  }
 ],
 "metadata": {
  "kernelspec": {
   "display_name": "Python 3.9.13 64-bit",
   "language": "python",
   "name": "python3"
  },
  "language_info": {
   "codemirror_mode": {
    "name": "ipython",
    "version": 3
   },
   "file_extension": ".py",
   "mimetype": "text/x-python",
   "name": "python",
   "nbconvert_exporter": "python",
   "pygments_lexer": "ipython3",
   "version": "3.9.13"
  },
  "orig_nbformat": 4,
  "vscode": {
   "interpreter": {
    "hash": "b0fa6594d8f4cbf19f97940f81e996739fb7646882a419484c72d19e05852a7e"
   }
  }
 },
 "nbformat": 4,
 "nbformat_minor": 2
}
